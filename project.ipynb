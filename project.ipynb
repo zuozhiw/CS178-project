{
 "cells": [
  {
   "cell_type": "code",
   "execution_count": 133,
   "metadata": {
    "collapsed": false,
    "deletable": true,
    "editable": true
   },
   "outputs": [],
   "source": [
    "import warnings\n",
    "warnings.filterwarnings('ignore')\n",
    "\n",
    "import numpy as np\n",
    "import time\n",
    "from sklearn import *\n",
    "\n",
    "from itertools import product"
   ]
  },
  {
   "cell_type": "code",
   "execution_count": 2,
   "metadata": {
    "collapsed": false,
    "deletable": true,
    "editable": true
   },
   "outputs": [],
   "source": [
    "# a helper function to generate a file\n",
    "def to_kaggle(prediction):\n",
    "    current_time_str = time.strftime(\"%H-%M-%S_%a_%b_%d\", time.localtime())\n",
    "    file_name = \"results/{}.txt\".format(current_time_str)\n",
    "    np.savetxt(file_name,\n",
    "           np.vstack( (np.arange(len(prediction)) , prediction[:,1]) ).T,\n",
    "           '%d, %.2f',header='ID,Prob1',comments='',delimiter=',');\n"
   ]
  },
  {
   "cell_type": "code",
   "execution_count": 3,
   "metadata": {
    "collapsed": true,
    "deletable": true,
    "editable": true
   },
   "outputs": [],
   "source": [
    "# load data\n",
    "x_data_all = np.genfromtxt(\"data/X_train.txt\", delimiter=None)\n",
    "y_data_all = np.genfromtxt(\"data/Y_train.txt\", delimiter=None)\n",
    "x_test = np.genfromtxt(\"data/X_test.txt\", delimiter=None)"
   ]
  },
  {
   "cell_type": "code",
   "execution_count": 4,
   "metadata": {
    "collapsed": false,
    "deletable": true,
    "editable": true
   },
   "outputs": [],
   "source": [
    "# x_data = x_data_all[:10000, :]\n",
    "# y_data = y_data_all[:10000]\n",
    "\n",
    "x_data = x_data_all\n",
    "y_data = y_data_all"
   ]
  },
  {
   "cell_type": "code",
   "execution_count": 5,
   "metadata": {
    "collapsed": false,
    "deletable": true,
    "editable": true
   },
   "outputs": [],
   "source": [
    "# split training / validation data\n",
    "x_train, x_validation, y_train, y_validation = model_selection.train_test_split(\n",
    "    x_data, y_data, test_size=0.2, random_state=42)"
   ]
  },
  {
   "cell_type": "code",
   "execution_count": 97,
   "metadata": {
    "collapsed": false,
    "deletable": true,
    "editable": true
   },
   "outputs": [
    {
     "name": "stdout",
     "output_type": "stream",
     "text": [
      "training started\n",
      "training finished\n",
      "0.662912115548\n"
     ]
    }
   ],
   "source": [
    "logistic_classifier = pipeline.Pipeline([\n",
    "    ('poly', preprocessing.PolynomialFeatures(degree=2, interaction_only=False)),\n",
    "    ('linear', linear_model.LogisticRegression())])\n",
    "\n",
    "print(\"training started\")\n",
    "logistic_classifier.fit(x_train, y_train)\n",
    "print(\"training finished\")\n",
    "\n",
    "logistic_classifier_roc = metrics.roc_auc_score(y_validation, logistic_classifier.predict_proba(x_validation)[:,1])\n",
    "print(logistic_classifier_roc)"
   ]
  },
  {
   "cell_type": "code",
   "execution_count": null,
   "metadata": {
    "collapsed": false,
    "deletable": true,
    "editable": true
   },
   "outputs": [],
   "source": []
  },
  {
   "cell_type": "code",
   "execution_count": 95,
   "metadata": {
    "collapsed": false
   },
   "outputs": [
    {
     "name": "stdout",
     "output_type": "stream",
     "text": [
      "training started\n",
      "training finished, took 2.519016981124878 seconds\n",
      "0.698577652125\n"
     ]
    }
   ],
   "source": [
    "knn_classifier = neighbors.KNeighborsClassifier(n_neighbors=10, weights=\"distance\", n_jobs=-1)\n",
    "\n",
    "print(\"training started\")\n",
    "starting_time = time.time()\n",
    "knn_classifier.fit(x_train, y_train)\n",
    "end_time = time.time()\n",
    "print(\"training finished, took {} seconds\".format(end_time - starting_time))\n",
    "\n",
    "knn_classifier_roc = metrics.roc_auc_score(\n",
    "   y_validation, knn_classifier.predict_proba(x_validation)[:,1])\n",
    "print(knn_classifier_roc)"
   ]
  },
  {
   "cell_type": "code",
   "execution_count": null,
   "metadata": {
    "collapsed": true
   },
   "outputs": [],
   "source": []
  },
  {
   "cell_type": "code",
   "execution_count": 68,
   "metadata": {
    "collapsed": false,
    "deletable": true,
    "editable": true
   },
   "outputs": [
    {
     "name": "stdout",
     "output_type": "stream",
     "text": [
      "training started\n",
      "training finished, took 84.45092701911926 seconds\n",
      "0.754645674456\n"
     ]
    }
   ],
   "source": [
    "random_forest_classifier = ensemble.RandomForestClassifier(\n",
    "    n_estimators=500, min_samples_leaf=4, n_jobs=2, oob_score=True)\n",
    "\n",
    "print(\"training started\")\n",
    "starting_time = time.time()\n",
    "random_forest_classifier.fit(x_train, y_train)\n",
    "end_time = time.time()\n",
    "print(\"training finished, took {} seconds\".format(end_time - starting_time))\n",
    "\n",
    "random_forest_classifier_roc = metrics.roc_auc_score(\n",
    "    y_validation, random_forest_classifier.predict_proba(x_validation)[:,1])\n",
    "print(random_forest_classifier_roc)"
   ]
  },
  {
   "cell_type": "code",
   "execution_count": 65,
   "metadata": {
    "collapsed": false,
    "deletable": true,
    "editable": true
   },
   "outputs": [
    {
     "name": "stdout",
     "output_type": "stream",
     "text": [
      "training started\n",
      "training finished, took 524.6228878498077 seconds\n",
      "0.713479734646\n"
     ]
    }
   ],
   "source": [
    "neural_network_classifier = pipeline.Pipeline([\n",
    "    (\"scale\", preprocessing.StandardScaler().fit(x_train)),\n",
    "    (\"nn\", neural_network.MLPClassifier(\n",
    "        hidden_layer_sizes=(14 * 20, 14 * 10),\n",
    "        max_iter=200))])\n",
    "\n",
    "print(\"training started\")\n",
    "starting_time = time.time()\n",
    "neural_network_classifier.fit(x_train, y_train)\n",
    "end_time = time.time()\n",
    "print(\"training finished, took {} seconds\".format(end_time - starting_time))\n",
    "\n",
    "neural_network_classifier_roc = metrics.roc_auc_score(\n",
    "    y_validation, neural_network_classifier.predict_proba(x_validation)[:,1])\n",
    "print(neural_network_classifier_roc)"
   ]
  },
  {
   "cell_type": "code",
   "execution_count": 66,
   "metadata": {
    "collapsed": false,
    "deletable": true,
    "editable": true
   },
   "outputs": [
    {
     "name": "stdout",
     "output_type": "stream",
     "text": [
      "0.7703875 0.71085\n"
     ]
    }
   ],
   "source": []
  },
  {
   "cell_type": "code",
   "execution_count": 67,
   "metadata": {
    "collapsed": false,
    "deletable": true,
    "editable": true
   },
   "outputs": [
    {
     "name": "stdout",
     "output_type": "stream",
     "text": [
      "training started\n",
      "training finished, took 224.91048502922058 seconds\n",
      "0.750307905393\n"
     ]
    }
   ],
   "source": [
    "gradient_boosting_classifier = ensemble.GradientBoostingClassifier(n_estimators=1000, learning_rate=0.5,\n",
    "     max_depth=3, max_leaf_nodes=13, random_state=0)\n",
    "\n",
    "print(\"training started\")\n",
    "starting_time = time.time()\n",
    "gradient_boosting_classifier.fit(x_train, y_train)\n",
    "end_time = time.time()\n",
    "print(\"training finished, took {} seconds\".format(end_time - starting_time))\n",
    "\n",
    "gradient_boosting_classifier_roc = metrics.roc_auc_score(\n",
    "   y_validation, gradient_boosting_classifier.predict_proba(x_validation)[:,1])\n",
    "print(gradient_boosting_classifier_roc)"
   ]
  },
  {
   "cell_type": "code",
   "execution_count": null,
   "metadata": {
    "collapsed": true
   },
   "outputs": [],
   "source": []
  },
  {
   "cell_type": "code",
   "execution_count": 98,
   "metadata": {
    "collapsed": false
   },
   "outputs": [
    {
     "name": "stdout",
     "output_type": "stream",
     "text": [
      "training started\n",
      "training finished, took 161.67395114898682 seconds\n",
      "0.730548694976\n"
     ]
    }
   ],
   "source": [
    "ada_classifier = ensemble.AdaBoostClassifier(tree.DecisionTreeClassifier(max_depth=3, max_features=7),\n",
    "               n_estimators=1000, learning_rate=0.5)\n",
    "\n",
    "print(\"training started\")\n",
    "starting_time = time.time()\n",
    "ada_classifier.fit(x_train, y_train)\n",
    "end_time = time.time()\n",
    "print(\"training finished, took {} seconds\".format(end_time - starting_time))\n",
    "\n",
    "ada_classifier_roc = metrics.roc_auc_score(\n",
    "   y_validation, ada_classifier.predict_proba(x_validation)[:,1])\n",
    "print(ada_classifier_roc)"
   ]
  },
  {
   "cell_type": "code",
   "execution_count": null,
   "metadata": {
    "collapsed": true
   },
   "outputs": [],
   "source": []
  },
  {
   "cell_type": "code",
   "execution_count": 132,
   "metadata": {
    "collapsed": false
   },
   "outputs": [
    {
     "name": "stdout",
     "output_type": "stream",
     "text": [
      "0.764704378221\n"
     ]
    }
   ],
   "source": [
    "classifier_list = [\n",
    "    (\"k_nearest_neighbor\", knn_classifier, 1),\n",
    "    (\"random_forest\", random_forest_classifier, 4),\n",
    "    (\"neural_network\", neural_network_classifier, 2),\n",
    "    (\"gradient_boosting\", gradient_boosting_classifier, 3),\n",
    "    (\"ada_boosting\", ada_classifier, 4)]\n",
    "\n",
    "\n",
    "y_validation_hat_list = []\n",
    "for classifier in classifier_list:\n",
    "    y_validation_hat = classifier[1].predict_proba(x_validation)[:,1]\n",
    "    for i in range(classifier[2]):\n",
    "        y_validation_hat_list.append(y_validation_hat)\n",
    "        \n",
    "y_validation_hat_average = np.mean(np.array(y_validation_hat_list), axis=0)\n",
    "\n",
    "voting_roc = metrics.roc_auc_score(y_validation, y_validation_hat_average)\n",
    "print(voting_roc)"
   ]
  },
  {
   "cell_type": "code",
   "execution_count": null,
   "metadata": {
    "collapsed": false
   },
   "outputs": [],
   "source": []
  },
  {
   "cell_type": "code",
   "execution_count": null,
   "metadata": {
    "collapsed": false
   },
   "outputs": [
    {
     "name": "stdout",
     "output_type": "stream",
     "text": [
      "weight # 0\n",
      "weight # 1\n",
      "weight # 2\n",
      "weight # 3\n",
      "weight # 4\n",
      "weight # 5\n",
      "weight # 6\n",
      "weight # 7\n",
      "weight # 8\n",
      "weight # 9\n",
      "weight # 10\n",
      "weight # 11\n",
      "weight # 12\n",
      "weight # 13\n",
      "weight # 14\n",
      "weight # 15\n"
     ]
    }
   ],
   "source": [
    "weights = [1,2,3]\n",
    "weight_list = list(product(weights, repeat=len(classifier_list)))\n",
    "\n",
    "roc_search_list = []\n",
    "\n",
    "for weight_i in range(len(weight_list)):\n",
    "    print(\"weight #\", weight_i)\n",
    "    # find the voting_roc\n",
    "    y_validation_hat_list = []\n",
    "    for classifier_i in range(len(classifier_list)):\n",
    "        y_validation_hat = classifier_list[classifier_i][1].predict_proba(x_validation)[:,1]\n",
    "        for i in range(weight_list[weight_i][classifier_i]):\n",
    "            y_validation_hat_list.append(y_validation_hat)\n",
    "    y_validation_hat_average = np.mean(np.array(y_validation_hat_list), axis=0)\n",
    "    voting_roc = metrics.roc_auc_score(y_validation, y_validation_hat_average)\n",
    "    # add the voting_roc to search list\n",
    "    roc_search_list.append(voting_roc)\n",
    "            "
   ]
  },
  {
   "cell_type": "code",
   "execution_count": null,
   "metadata": {
    "collapsed": true
   },
   "outputs": [],
   "source": []
  }
 ],
 "metadata": {
  "anaconda-cloud": {},
  "kernelspec": {
   "display_name": "Python 3",
   "language": "python",
   "name": "python3"
  },
  "language_info": {
   "codemirror_mode": {
    "name": "ipython",
    "version": 3
   },
   "file_extension": ".py",
   "mimetype": "text/x-python",
   "name": "python",
   "nbconvert_exporter": "python",
   "pygments_lexer": "ipython3",
   "version": "3.5.3"
  }
 },
 "nbformat": 4,
 "nbformat_minor": 1
}
