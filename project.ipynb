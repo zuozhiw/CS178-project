{
 "cells": [
  {
   "cell_type": "code",
   "execution_count": 1,
   "metadata": {
    "collapsed": false,
    "deletable": true,
    "editable": true
   },
   "outputs": [
    {
     "name": "stderr",
     "output_type": "stream",
     "text": [
      "/Users/georgewang/anaconda/lib/python3.5/site-packages/sklearn/cross_validation.py:44: DeprecationWarning: This module was deprecated in version 0.18 in favor of the model_selection module into which all the refactored classes and functions are moved. Also note that the interface of the new CV iterators are different from that of this module. This module will be removed in 0.20.\n",
      "  \"This module will be removed in 0.20.\", DeprecationWarning)\n",
      "/Users/georgewang/anaconda/lib/python3.5/site-packages/sklearn/grid_search.py:43: DeprecationWarning: This module was deprecated in version 0.18 in favor of the model_selection module into which all the refactored classes and functions are moved. This module will be removed in 0.20.\n",
      "  DeprecationWarning)\n",
      "/Users/georgewang/anaconda/lib/python3.5/site-packages/sklearn/lda.py:6: DeprecationWarning: lda.LDA has been moved to discriminant_analysis.LinearDiscriminantAnalysis in 0.17 and will be removed in 0.19\n",
      "  \"in 0.17 and will be removed in 0.19\", DeprecationWarning)\n",
      "/Users/georgewang/anaconda/lib/python3.5/site-packages/sklearn/learning_curve.py:23: DeprecationWarning: This module was deprecated in version 0.18 in favor of the model_selection module into which all the functions are moved. This module will be removed in 0.20\n",
      "  DeprecationWarning)\n",
      "/Users/georgewang/anaconda/lib/python3.5/site-packages/sklearn/qda.py:6: DeprecationWarning: qda.QDA has been moved to discriminant_analysis.QuadraticDiscriminantAnalysis in 0.17 and will be removed in 0.19.\n",
      "  \"in 0.17 and will be removed in 0.19.\", DeprecationWarning)\n"
     ]
    }
   ],
   "source": [
    "import warnings\n",
    "warnings.filterwarnings('ignore')\n",
    "\n",
    "import numpy as np\n",
    "import time\n",
    "from sklearn import *\n",
    "\n",
    "from itertools import product"
   ]
  },
  {
   "cell_type": "code",
   "execution_count": 2,
   "metadata": {
    "collapsed": false,
    "deletable": true,
    "editable": true
   },
   "outputs": [],
   "source": [
    "# a helper function to generate a file\n",
    "def to_kaggle(prediction):\n",
    "    current_time_str = time.strftime(\"%H-%M-%S_%a_%b_%d\", time.localtime())\n",
    "    file_name = \"results/{}.txt\".format(current_time_str)\n",
    "    np.savetxt(file_name,\n",
    "           np.vstack( (np.arange(len(prediction)) , prediction) ).T,\n",
    "           '%d, %.2f',header='ID,Prob1',comments='',delimiter=',');\n"
   ]
  },
  {
   "cell_type": "code",
   "execution_count": null,
   "metadata": {
    "collapsed": true,
    "deletable": true,
    "editable": true
   },
   "outputs": [],
   "source": []
  },
  {
   "cell_type": "code",
   "execution_count": 3,
   "metadata": {
    "collapsed": true,
    "deletable": true,
    "editable": true
   },
   "outputs": [],
   "source": [
    "# load data\n",
    "x_data_all = np.genfromtxt(\"data/X_train.txt\", delimiter=None)\n",
    "y_data_all = np.genfromtxt(\"data/Y_train.txt\", delimiter=None)\n",
    "x_test = np.genfromtxt(\"data/X_test.txt\", delimiter=None)"
   ]
  },
  {
   "cell_type": "code",
   "execution_count": 4,
   "metadata": {
    "collapsed": false,
    "deletable": true,
    "editable": true
   },
   "outputs": [],
   "source": [
    "# x_data = x_data_all[:10000, :]\n",
    "# y_data = y_data_all[:10000]\n",
    "\n",
    "x_data = x_data_all\n",
    "y_data = y_data_all"
   ]
  },
  {
   "cell_type": "code",
   "execution_count": 5,
   "metadata": {
    "collapsed": false,
    "deletable": true,
    "editable": true
   },
   "outputs": [],
   "source": [
    "# split training / validation data\n",
    "x_train, x_validation, y_train, y_validation = model_selection.train_test_split(\n",
    "    x_data, y_data, test_size=0.2, random_state=42)"
   ]
  },
  {
   "cell_type": "code",
   "execution_count": 6,
   "metadata": {
    "collapsed": false
   },
   "outputs": [
    {
     "name": "stdout",
     "output_type": "stream",
     "text": [
      "[ 0.  1.  0. ...,  0.  0.  1.]\n"
     ]
    }
   ],
   "source": [
    "print(y_validation)"
   ]
  },
  {
   "cell_type": "code",
   "execution_count": 9,
   "metadata": {
    "collapsed": false,
    "deletable": true,
    "editable": true
   },
   "outputs": [
    {
     "name": "stdout",
     "output_type": "stream",
     "text": [
      "training started\n",
      "training finished\n",
      "validation roc: 0.662912115548\n",
      "training error: 0.310375\n",
      "validation error: 0.30025\n"
     ]
    }
   ],
   "source": [
    "logistic_classifier = pipeline.Pipeline([\n",
    "    ('poly', preprocessing.PolynomialFeatures(degree=2, interaction_only=False)),\n",
    "    ('logistic', linear_model.LogisticRegression())])\n",
    "\n",
    "print(\"training started\")\n",
    "logistic_classifier.fit(x_train, y_train)\n",
    "print(\"training finished\")\n",
    "\n",
    "logistic_classifier_roc = metrics.roc_auc_score(y_validation, logistic_classifier.predict_proba(x_validation)[:,1])\n",
    "print(\"validation roc:\", logistic_classifier_roc)\n",
    "\n",
    "print(\"training error:\", 1 - logistic_classifier.score(x_train, y_train))\n",
    "print(\"validation error:\", 1 - logistic_classifier.score(x_validation, y_validation))"
   ]
  },
  {
   "cell_type": "code",
   "execution_count": 54,
   "metadata": {
    "collapsed": false
   },
   "outputs": [
    {
     "name": "stdout",
     "output_type": "stream",
     "text": [
      "0.666027054393\n"
     ]
    }
   ],
   "source": []
  },
  {
   "cell_type": "code",
   "execution_count": null,
   "metadata": {
    "collapsed": false,
    "deletable": true,
    "editable": true
   },
   "outputs": [],
   "source": []
  },
  {
   "cell_type": "code",
   "execution_count": 16,
   "metadata": {
    "collapsed": false,
    "deletable": true,
    "editable": true
   },
   "outputs": [
    {
     "name": "stdout",
     "output_type": "stream",
     "text": [
      "training started\n",
      "training finished, took 1.9437119960784912 seconds\n",
      "0.698577652125\n",
      "training error: 0.032875\n",
      "validation error: 0.2981\n"
     ]
    }
   ],
   "source": [
    "knn_classifier = neighbors.KNeighborsClassifier(n_neighbors=10, weights=\"distance\", n_jobs=-1)\n",
    "\n",
    "print(\"training started\")\n",
    "starting_time = time.time()\n",
    "knn_classifier.fit(x_train, y_train)\n",
    "end_time = time.time()\n",
    "print(\"training finished, took {} seconds\".format(end_time - starting_time))\n",
    "\n",
    "y_validation_hat = knn_classifier.predict_proba(x_validation)[:,1]\n",
    "\n",
    "knn_classifier_roc = metrics.roc_auc_score(y_validation, y_validation_hat)\n",
    "print(knn_classifier_roc)\n",
    "\n",
    "print(\"training error:\", 1 - knn_classifier.score(x_train, y_train))\n",
    "print(\"validation error:\", 1 - knn_classifier.score(x_validation, y_validation))"
   ]
  },
  {
   "cell_type": "code",
   "execution_count": null,
   "metadata": {
    "collapsed": true,
    "deletable": true,
    "editable": true
   },
   "outputs": [],
   "source": []
  },
  {
   "cell_type": "code",
   "execution_count": 11,
   "metadata": {
    "collapsed": false,
    "deletable": true,
    "editable": true
   },
   "outputs": [
    {
     "name": "stdout",
     "output_type": "stream",
     "text": [
      "training started\n",
      "training finished, took 115.00101113319397 seconds\n",
      "0.755056462307\n",
      "training error: 0.12035\n",
      "validation error: 0.2688\n"
     ]
    }
   ],
   "source": [
    "random_forest_classifier = ensemble.RandomForestClassifier(\n",
    "    n_estimators=1000, min_samples_leaf=4, n_jobs=-1, oob_score=True)\n",
    "\n",
    "print(\"training started\")\n",
    "starting_time = time.time()\n",
    "random_forest_classifier.fit(x_train, y_train)\n",
    "end_time = time.time()\n",
    "print(\"training finished, took {} seconds\".format(end_time - starting_time))\n",
    "\n",
    "random_forest_classifier_roc = metrics.roc_auc_score(\n",
    "    y_validation, random_forest_classifier.predict_proba(x_validation)[:,1])\n",
    "print(random_forest_classifier_roc)\n",
    "\n",
    "print(\"training error:\", 1 - random_forest_classifier.score(x_train, y_train))\n",
    "print(\"validation error:\", 1 - random_forest_classifier.score(x_validation, y_validation))"
   ]
  },
  {
   "cell_type": "code",
   "execution_count": 20,
   "metadata": {
    "collapsed": false,
    "deletable": true,
    "editable": true
   },
   "outputs": [
    {
     "name": "stdout",
     "output_type": "stream",
     "text": [
      "training started\n",
      "training finished, took 631.049479007721 seconds\n",
      "validation roc: 0.704233635354\n"
     ]
    }
   ],
   "source": [
    "neural_network_classifier = pipeline.Pipeline([\n",
    "    (\"scale\", preprocessing.StandardScaler().fit(x_train)),\n",
    "    (\"nn\", neural_network.MLPClassifier(\n",
    "        hidden_layer_sizes=(14*20, 14*10),\n",
    "        warm_start=True))])\n",
    "\n",
    "print(\"training started\")\n",
    "starting_time = time.time()\n",
    "neural_network_classifier.fit(x_train, y_train)\n",
    "end_time = time.time()\n",
    "print(\"training finished, took {} seconds\".format(end_time - starting_time))\n",
    "\n",
    "neural_network_classifier_roc = metrics.roc_auc_score(\n",
    "    y_validation, neural_network_classifier.predict_proba(x_validation)[:,1])\n",
    "print(\"validation roc:\", neural_network_classifier_roc)"
   ]
  },
  {
   "cell_type": "code",
   "execution_count": 21,
   "metadata": {
    "collapsed": false
   },
   "outputs": [
    {
     "name": "stdout",
     "output_type": "stream",
     "text": [
      "training error: 0.21175\n",
      "validation error: 0.29475\n"
     ]
    }
   ],
   "source": [
    "print(\"training error:\", 1 - neural_network_classifier.score(x_train, y_train))\n",
    "print(\"validation error:\", 1 - neural_network_classifier.score(x_validation, y_validation))"
   ]
  },
  {
   "cell_type": "code",
   "execution_count": 58,
   "metadata": {
    "collapsed": false,
    "deletable": true,
    "editable": true
   },
   "outputs": [
    {
     "name": "stdout",
     "output_type": "stream",
     "text": [
      "training started\n",
      "training finished, took 25.13662600517273 seconds\n",
      "validation roc: 0.956336506031\n"
     ]
    }
   ],
   "source": [
    "extra_tree_classifier = ensemble.ExtraTreesClassifier(\n",
    "    n_estimators=500, max_depth=50, min_samples_split=10, min_samples_leaf=2, max_features='log2', n_jobs=-1)\n",
    "\n",
    "print(\"training started\")\n",
    "starting_time = time.time()\n",
    "extra_tree_classifier.fit(x_train, y_train)\n",
    "end_time = time.time()\n",
    "print(\"training finished, took {} seconds\".format(end_time - starting_time))\n",
    "\n",
    "extra_tree_classifier_roc = metrics.roc_auc_score(\n",
    "    y_validation, extra_tree_classifier.predict_proba(x_validation)[:,1])\n",
    "print(\"validation roc:\", extra_tree_classifier_roc)"
   ]
  },
  {
   "cell_type": "code",
   "execution_count": null,
   "metadata": {
    "collapsed": true,
    "deletable": true,
    "editable": true
   },
   "outputs": [],
   "source": []
  },
  {
   "cell_type": "code",
   "execution_count": 59,
   "metadata": {
    "collapsed": false,
    "deletable": true,
    "editable": true
   },
   "outputs": [
    {
     "name": "stdout",
     "output_type": "stream",
     "text": [
      "training started\n",
      "training finished, took 0.06046605110168457 seconds\n",
      "validation roc: 0.602394200656\n"
     ]
    }
   ],
   "source": [
    "naive_bayes_classifier = naive_bayes.GaussianNB()\n",
    "\n",
    "print(\"training started\")\n",
    "starting_time = time.time()\n",
    "naive_bayes_classifier.fit(x_train, y_train)\n",
    "end_time = time.time()\n",
    "print(\"training finished, took {} seconds\".format(end_time - starting_time))\n",
    "\n",
    "naive_bayes_classifier_roc = metrics.roc_auc_score(\n",
    "    y_validation, naive_bayes_classifier.predict_proba(x_validation)[:,1])\n",
    "print(\"validation roc:\", naive_bayes_classifier_roc)"
   ]
  },
  {
   "cell_type": "code",
   "execution_count": null,
   "metadata": {
    "collapsed": true,
    "deletable": true,
    "editable": true
   },
   "outputs": [],
   "source": []
  },
  {
   "cell_type": "code",
   "execution_count": 42,
   "metadata": {
    "collapsed": false,
    "deletable": true,
    "editable": true
   },
   "outputs": [
    {
     "name": "stdout",
     "output_type": "stream",
     "text": [
      "training started\n",
      "training finished, took 22.75811004638672 seconds\n",
      "0.722670601296\n",
      "training error: 0.2485625\n",
      "validation error: 0.2793\n"
     ]
    }
   ],
   "source": [
    "gradient_boosting_classifier = ensemble.GradientBoostingClassifier(n_estimators=100, learning_rate=0.5,\n",
    "     max_depth=10, max_leaf_nodes=15, random_state=0)\n",
    "\n",
    "print(\"training started\")\n",
    "starting_time = time.time()\n",
    "gradient_boosting_classifier.fit(x_train, y_train)\n",
    "end_time = time.time()\n",
    "print(\"training finished, took {} seconds\".format(end_time - starting_time))\n",
    "\n",
    "gradient_boosting_classifier_roc = metrics.roc_auc_score(\n",
    "   y_validation, gradient_boosting_classifier.predict_proba(x_validation)[:,1])\n",
    "print(gradient_boosting_classifier_roc)\n",
    "\n",
    "print(\"training error:\", 1 - gradient_boosting_classifier.score(x_train, y_train))\n",
    "print(\"validation error:\", 1 - gradient_boosting_classifier.score(x_validation, y_validation))"
   ]
  },
  {
   "cell_type": "code",
   "execution_count": 38,
   "metadata": {
    "collapsed": false,
    "deletable": true,
    "editable": true
   },
   "outputs": [
    {
     "name": "stdout",
     "output_type": "stream",
     "text": [
      "training error: 0.262225\n",
      "validation error: 0.2847\n"
     ]
    }
   ],
   "source": [
    "print(\"training error:\", 1 - gradient_boosting_classifier.score(x_train, y_train))\n",
    "print(\"validation error:\", 1 - gradient_boosting_classifier.score(x_validation, y_validation))"
   ]
  },
  {
   "cell_type": "code",
   "execution_count": 25,
   "metadata": {
    "collapsed": false,
    "deletable": true,
    "editable": true
   },
   "outputs": [
    {
     "name": "stdout",
     "output_type": "stream",
     "text": [
      "training started\n",
      "training finished, took 147.051344871521 seconds\n",
      "0.729018364083\n"
     ]
    }
   ],
   "source": [
    "ada_classifier = ensemble.AdaBoostClassifier(tree.DecisionTreeClassifier(max_depth=3, max_features=7),\n",
    "               n_estimators=1000, learning_rate=0.5)\n",
    "\n",
    "print(\"training started\")\n",
    "starting_time = time.time()\n",
    "ada_classifier.fit(x_train, y_train)\n",
    "end_time = time.time()\n",
    "print(\"training finished, took {} seconds\".format(end_time - starting_time))\n",
    "\n",
    "ada_classifier_roc = metrics.roc_auc_score(\n",
    "   y_validation, ada_classifier.predict_proba(x_validation)[:,1])\n",
    "print(ada_classifier_roc)"
   ]
  },
  {
   "cell_type": "code",
   "execution_count": null,
   "metadata": {
    "collapsed": false,
    "deletable": true,
    "editable": true
   },
   "outputs": [],
   "source": []
  },
  {
   "cell_type": "code",
   "execution_count": 36,
   "metadata": {
    "collapsed": false,
    "deletable": true,
    "editable": true
   },
   "outputs": [
    {
     "name": "stdout",
     "output_type": "stream",
     "text": [
      "roc: 0.762889233293\n",
      "weight: [3, 1, 15, 4, 9]\n"
     ]
    }
   ],
   "source": [
    "# classifier_list = [\n",
    "#     (\"logistic_regression\", logistic_classifier, 3),\n",
    "#     (\"naive_bayes\", naive_bayes_classifier, 1),\n",
    "#     (\"k_nearest_neighbor\", knn_classifier, 4),\n",
    "#     (\"random_forest\", random_forest_classifier, 11),\n",
    "#     (\"extra_tree\", extra_tree_classifier, 7),\n",
    "#     (\"neural_network\", neural_network_classifier, 7),\n",
    "#     (\"gradient_boosting\", gradient_boosting_classifier, 9),\n",
    "#     (\"ada_boosting\", ada_classifier, 8),\n",
    "# ]\n",
    "\n",
    "classifier_list = [\n",
    "    (\"logistic_regression\", logistic_classifier, 3),\n",
    "    (\"k_nearest_neighbor\", knn_classifier, 1),\n",
    "    (\"random_forest\", random_forest_classifier, 15),\n",
    "    (\"neural_network\", neural_network_classifier, 4),\n",
    "    (\"gradient_boosting\", gradient_boosting_classifier, 9),\n",
    "#     (\"ada_boosting\", ada_classifier, 9),\n",
    "]\n",
    "\n",
    "\n",
    "y_validation_hat_list = []\n",
    "for classifier in classifier_list:\n",
    "    y_validation_hat = classifier[1].predict_proba(x_validation)[:,1]\n",
    "    for i in range(classifier[2]):\n",
    "        y_validation_hat_list.append(y_validation_hat)\n",
    "        \n",
    "y_validation_hat_average = np.mean(np.array(y_validation_hat_list), axis=0)\n",
    "\n",
    "voting_roc = metrics.roc_auc_score(y_validation, y_validation_hat_average)\n",
    "print(\"roc:\", voting_roc)\n",
    "print(\"weight:\", [classifier[2] for classifier in classifier_list])"
   ]
  },
  {
   "cell_type": "code",
   "execution_count": null,
   "metadata": {
    "collapsed": false,
    "deletable": true,
    "editable": true
   },
   "outputs": [],
   "source": []
  },
  {
   "cell_type": "code",
   "execution_count": 84,
   "metadata": {
    "collapsed": true,
    "deletable": true,
    "editable": true
   },
   "outputs": [],
   "source": [
    "y_test_hat_list = []\n",
    "for classifier in classifier_list:\n",
    "    y_test_hat = classifier[1].predict_proba(x_test)[:,1]\n",
    "    for i in range(classifier[2]):\n",
    "        y_test_hat_list.append(y_test_hat)\n",
    "        \n",
    "y_test_hat_average = np.mean(np.array(y_test_hat_list), axis=0)\n"
   ]
  },
  {
   "cell_type": "code",
   "execution_count": 85,
   "metadata": {
    "collapsed": false,
    "deletable": true,
    "editable": true
   },
   "outputs": [],
   "source": [
    "to_kaggle(y_test_hat_average)"
   ]
  },
  {
   "cell_type": "code",
   "execution_count": 86,
   "metadata": {
    "collapsed": false,
    "deletable": true,
    "editable": true
   },
   "outputs": [
    {
     "name": "stdout",
     "output_type": "stream",
     "text": [
      "finished\n"
     ]
    }
   ],
   "source": [
    "print(\"finished\")"
   ]
  },
  {
   "cell_type": "code",
   "execution_count": null,
   "metadata": {
    "collapsed": false,
    "deletable": true,
    "editable": true
   },
   "outputs": [],
   "source": [
    "# weights = [0, 1, 3, 6]\n",
    "# weight_list = list(product(weights, repeat=len(classifier_list)))\n",
    "\n",
    "# roc_search_list = []\n",
    "\n",
    "# for weight_i in range(len(weight_list)):\n",
    "#     print(\"weight #\", weight_i)\n",
    "#     # find the voting_roc\n",
    "#     y_validation_hat_list = []\n",
    "#     for classifier_i in range(len(classifier_list)):\n",
    "#         y_validation_hat = classifier_list[classifier_i][1].predict_proba(x_validation)[:,1]\n",
    "#         for i in range(weight_list[weight_i][classifier_i]):\n",
    "#             y_validation_hat_list.append(y_validation_hat)\n",
    "#     y_validation_hat_average = np.mean(np.array(y_validation_hat_list), axis=0)\n",
    "#     voting_roc = metrics.roc_auc_score(y_validation, y_validation_hat_average)\n",
    "#     # add the voting_roc to search list\n",
    "#     roc_search_list.append(voting_roc)\n",
    "            "
   ]
  },
  {
   "cell_type": "code",
   "execution_count": null,
   "metadata": {
    "collapsed": false,
    "deletable": true,
    "editable": true
   },
   "outputs": [],
   "source": [
    "max_roc = max(roc_search_list)\n",
    "max_roc_weight = weight_list[roc_search_list.index(max_roc)]\n",
    "\n",
    "print(\"max roc:\", max_roc)\n",
    "print(\"weight:\", max_roc_weight)"
   ]
  },
  {
   "cell_type": "code",
   "execution_count": null,
   "metadata": {
    "collapsed": false,
    "deletable": true,
    "editable": true
   },
   "outputs": [],
   "source": [
    "classifier_list"
   ]
  },
  {
   "cell_type": "code",
   "execution_count": null,
   "metadata": {
    "collapsed": true,
    "deletable": true,
    "editable": true
   },
   "outputs": [],
   "source": []
  }
 ],
 "metadata": {
  "anaconda-cloud": {},
  "kernelspec": {
   "display_name": "Python [default]",
   "language": "python",
   "name": "python3"
  },
  "language_info": {
   "codemirror_mode": {
    "name": "ipython",
    "version": 3
   },
   "file_extension": ".py",
   "mimetype": "text/x-python",
   "name": "python",
   "nbconvert_exporter": "python",
   "pygments_lexer": "ipython3",
   "version": "3.5.2"
  }
 },
 "nbformat": 4,
 "nbformat_minor": 1
}
